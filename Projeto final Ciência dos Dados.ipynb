{
 "cells": [
  {
   "cell_type": "markdown",
   "metadata": {},
   "source": [
    "### Projeto final de Ciência dos Dados: Classificação de Pokémons a partir da sua cor e... \n",
    "\n",
    "##### Feito por:\n",
    "Enrico Aloisi Nardi e Evandro Fontana Romeiro- 2º semestre de engenharia (Insper 2018)\n",
    "\n",
    "\n",
    "##### Ideia geral do projeto:\n",
    "A partir do que será apresentado, buscaremos tentar encontrar uma relação explícita entre os stats de um Pokémon, a sua cor e a sua categoria."
   ]
  },
  {
   "cell_type": "code",
   "execution_count": 199,
   "metadata": {},
   "outputs": [],
   "source": [
    "# Imports necessários para o projeto:\n",
    "import os\n",
    "import colorsys\n",
    "import pandas as pd\n",
    "import numpy as np\n",
    "import matplotlib.pyplot as plt\n",
    "from matplotlib.figure import Figure\n",
    "from colorthief import ColorThief\n",
    "from mpl_toolkits.mplot3d import Axes3D\n",
    "from pandas import DataFrame as df\n",
    "from sklearn import cluster\n",
    "from pandas import ExcelWriter\n",
    "from sklearn.cluster import KMeans\n",
    "%matplotlib inline"
   ]
  },
  {
   "cell_type": "code",
   "execution_count": 200,
   "metadata": {
    "scrolled": true
   },
   "outputs": [],
   "source": [
    "data= pd.read_csv('Pokemon.csv') #lendo o database baixado do kaggle \n",
    "\n",
    "#O bloco a seguir encontra-se comentado para que o comando criador.save() não interfira nas alterações feitas no excel pelo computador\n",
    "#transformando o database csv em excel para poder eliminar incongruências entre a base de fotos e a de dados sobre os \n",
    "#Pokémons\n",
    "# criador = ExcelWriter('Pokexcel.xlsx')                         \n",
    "# data.to_excel(criador,'Sheet5')\n",
    "# criador.save()  "
   ]
  },
  {
   "cell_type": "markdown",
   "metadata": {},
   "source": [
    "# TESTE DO ALGORITMO COM OS POKÉMONS DA PRIMEIRA GERAÇÃO "
   ]
  },
  {
   "cell_type": "code",
   "execution_count": 212,
   "metadata": {
    "scrolled": true
   },
   "outputs": [],
   "source": [
    "data_teste= pd.read_excel('Pokexcel2.xlsx') #lendo o database baixado do kaggle \n",
    "lis_cores_rgb_t = [] #lista que guardará os códigos RGB das cores predominantes em cada foto\n",
    "\n",
    "lis_cores_hsv_t = [] #lista que guardará os códigos HSV das cores predominantes em cada foto\n",
    "\n",
    "path = 'C:/Users/Enrico Aloisi Nardi/Desktop/Insper/SEGUNDO semestre/Ciência dos Dados/Projeto 3/Projeto-3--CDD/poketeste/'\n",
    "arq_na_pasta= os.listdir(path)\n",
    "\n",
    "for foto in arq_na_pasta:\n",
    "    color_thief = ColorThief(path + foto)\n",
    "\n",
    "    #recebendo a cor predominante de cada foto\n",
    "    cor_predominante_t = color_thief.get_color(quality=1)\n",
    "    lis_cores_rgb_t.append(cor_predominante_t)\n",
    "    \n",
    "    # Colocando a variável \"cor predominante\" numa função que converte um código de cores RGB em HSV e vice-versa.\n",
    "    # Ela será utilzada para aumentar a 'precisão' da leitura da cor da foto feita pelo ColouThief, que entrega o resultado em RGB.\n",
    "    # Com a conversão RGB-HSV buscamos reduzir confusões feitas pelo programa por conta de pequenas diferenças na cor lida.\n",
    "    cor_predominante_hsv_t = colorsys.rgb_to_hsv(cor_predominante[0], cor_predominante[1], cor_predominante[2])\n",
    "    \n",
    "    lis_cores_hsv_t.append(cor_predominante_hsv_t)"
   ]
  },
  {
   "cell_type": "markdown",
   "metadata": {},
   "source": [
    "Daqui em diante, uma vez que o algoritmo pronto do KMeans não trabalha com strings, foi feita a seguinte mudança do nome da categoria de um Pokémon para um número:\n",
    "\n",
    "| Categoria     | Número equivalente          \n",
    "| ------------- |:-------------\n",
    "| Water    | 0\n",
    "| Normal   | 1\n",
    "| Grass    | 2\n",
    "| Bug      | 3\n",
    "| Psychic  | 4\n",
    "| Fire     | 5\n",
    "| Electric | 6\n",
    "| Rock     | 7\n",
    "| Ghost    | 8\n",
    "| Dragon   | 9\n",
    "| Ground   | 10\n",
    "| Dark     | 11\n",
    "| Poison   | 12\n",
    "| Steel    | 13\n",
    "| Fighting | 14\n",
    "| Ice      | 15\n",
    "| Fairy    | 16\n",
    "| Flying   | 17\n",
    "\n"
   ]
  },
  {
   "cell_type": "code",
   "execution_count": 213,
   "metadata": {
    "scrolled": true
   },
   "outputs": [
    {
     "data": {
      "text/html": [
       "<div>\n",
       "<style scoped>\n",
       "    .dataframe tbody tr th:only-of-type {\n",
       "        vertical-align: middle;\n",
       "    }\n",
       "\n",
       "    .dataframe tbody tr th {\n",
       "        vertical-align: top;\n",
       "    }\n",
       "\n",
       "    .dataframe thead th {\n",
       "        text-align: right;\n",
       "    }\n",
       "</style>\n",
       "<table border=\"1\" class=\"dataframe\">\n",
       "  <thead>\n",
       "    <tr style=\"text-align: right;\">\n",
       "      <th></th>\n",
       "      <th>#</th>\n",
       "      <th>Total</th>\n",
       "      <th>HP</th>\n",
       "      <th>Attack</th>\n",
       "      <th>Defense</th>\n",
       "      <th>Sp. Atk</th>\n",
       "      <th>Sp. Def</th>\n",
       "      <th>Speed</th>\n",
       "      <th>Generation</th>\n",
       "      <th>R</th>\n",
       "      <th>G</th>\n",
       "      <th>B</th>\n",
       "      <th>Categoria_Num</th>\n",
       "    </tr>\n",
       "  </thead>\n",
       "  <tbody>\n",
       "    <tr>\n",
       "      <th>0</th>\n",
       "      <td>1</td>\n",
       "      <td>318</td>\n",
       "      <td>45</td>\n",
       "      <td>49</td>\n",
       "      <td>49</td>\n",
       "      <td>65</td>\n",
       "      <td>65</td>\n",
       "      <td>45</td>\n",
       "      <td>1</td>\n",
       "      <td>120</td>\n",
       "      <td>180</td>\n",
       "      <td>152</td>\n",
       "      <td>2</td>\n",
       "    </tr>\n",
       "    <tr>\n",
       "      <th>1</th>\n",
       "      <td>2</td>\n",
       "      <td>405</td>\n",
       "      <td>60</td>\n",
       "      <td>62</td>\n",
       "      <td>63</td>\n",
       "      <td>80</td>\n",
       "      <td>80</td>\n",
       "      <td>60</td>\n",
       "      <td>1</td>\n",
       "      <td>140</td>\n",
       "      <td>183</td>\n",
       "      <td>115</td>\n",
       "      <td>2</td>\n",
       "    </tr>\n",
       "    <tr>\n",
       "      <th>2</th>\n",
       "      <td>3</td>\n",
       "      <td>525</td>\n",
       "      <td>80</td>\n",
       "      <td>82</td>\n",
       "      <td>83</td>\n",
       "      <td>100</td>\n",
       "      <td>100</td>\n",
       "      <td>80</td>\n",
       "      <td>1</td>\n",
       "      <td>218</td>\n",
       "      <td>179</td>\n",
       "      <td>186</td>\n",
       "      <td>2</td>\n",
       "    </tr>\n",
       "  </tbody>\n",
       "</table>\n",
       "</div>"
      ],
      "text/plain": [
       "   #  Total  HP  Attack  Defense  Sp. Atk  Sp. Def  Speed  Generation    R  \\\n",
       "0  1    318  45      49       49       65       65     45           1  120   \n",
       "1  2    405  60      62       63       80       80     60           1  140   \n",
       "2  3    525  80      82       83      100      100     80           1  218   \n",
       "\n",
       "     G    B Categoria_Num  \n",
       "0  180  152             2  \n",
       "1  183  115             2  \n",
       "2  179  186             2  "
      ]
     },
     "execution_count": 213,
     "metadata": {},
     "output_type": "execute_result"
    }
   ],
   "source": [
    "data_teste['R'] = [x[0] for x in lis_cores_rgb_t]\n",
    "data_teste['G'] = [x[1] for x in lis_cores_rgb_t]\n",
    "data_teste['B'] = [x[2] for x in lis_cores_rgb_t]\n",
    "\n",
    "data_teste.loc[data['Type 1'] == 'Water'   , \"Categoria_Num\"] = \"0\"\n",
    "data_teste.loc[data['Type 1'] == 'Normal'  , \"Categoria_Num\"] = \"1\"\n",
    "data_teste.loc[data['Type 1'] == 'Grass'   , \"Categoria_Num\"] = \"2\"\n",
    "data_teste.loc[data['Type 1'] == 'Bug'     , \"Categoria_Num\"] = \"3\"\n",
    "data_teste.loc[data['Type 1'] == 'Psychic' , \"Categoria_Num\"] = \"4\"\n",
    "data_teste.loc[data['Type 1'] == 'Fire'    , \"Categoria_Num\"] = \"5\"\n",
    "data_teste.loc[data['Type 1'] == 'Electric', \"Categoria_Num\"] = \"6\"\n",
    "data_teste.loc[data['Type 1'] == 'Rock'    , \"Categoria_Num\"] = \"7\"\n",
    "data_teste.loc[data['Type 1'] == 'Ghost'   , \"Categoria_Num\"] = \"8\"\n",
    "data_teste.loc[data['Type 1'] == 'Dragon'  , \"Categoria_Num\"] = \"9\"\n",
    "data_teste.loc[data['Type 1'] == 'Ground'  , \"Categoria_Num\"] = \"10\"\n",
    "data_teste.loc[data['Type 1'] == 'Dark'    , \"Categoria_Num\"] = \"11\"\n",
    "data_teste.loc[data['Type 1'] == 'Poison'  , \"Categoria_Num\"] = \"12\"\n",
    "data_teste.loc[data['Type 1'] == 'Steel'   , \"Categoria_Num\"] = \"13\"\n",
    "data_teste.loc[data['Type 1'] == 'Fighting', \"Categoria_Num\"] = \"14\"\n",
    "data_teste.loc[data['Type 1'] == 'Ice'     , \"Categoria_Num\"] = \"15\"\n",
    "data_teste.loc[data['Type 1'] == 'Fairy'   , \"Categoria_Num\"] = \"16\"\n",
    "data_teste.loc[data['Type 1'] == 'Flying'  , \"Categoria_Num\"] = \"17\"\n",
    "\n",
    "data2 = data_teste.drop(['Type 1','Type 2','Legendary','Name'], axis= 1)\n",
    "data2.head(3)"
   ]
  },
  {
   "cell_type": "code",
   "execution_count": 214,
   "metadata": {},
   "outputs": [
    {
     "data": {
      "image/png": "[encoded data removed]",
      "text/plain": [
       "<matplotlib.figure.Figure at 0x218267d3fd0>"
      ]
     },
     "metadata": {},
     "output_type": "display_data"
    }
   ],
   "source": [
    "modelo_parcial= KMeans(n_clusters= 15) #o número de clusters foi definido a partir do número de dados categorias diferentes de Pokémons\n",
    "                              #(15 no caso da primeira geração) \n",
    "modelo_parcial.fit(data2)\n",
    "y_pred = modelo_parcial.predict(data2) #lista que guarda qual é o cluster ao qual pertence cada um dos pokémons\n",
    "plt.hist(y_pred, bins= 15);"
   ]
  },
  {
   "cell_type": "code",
   "execution_count": 215,
   "metadata": {},
   "outputs": [
    {
     "data": {
      "text/plain": [
       "-1086872.066865083"
      ]
     },
     "execution_count": 215,
     "metadata": {},
     "output_type": "execute_result"
    }
   ],
   "source": [
    "score = model.score(data2)\n",
    "score"
   ]
  },
  {
   "cell_type": "markdown",
   "metadata": {},
   "source": [
    "# APLICANDO O APRESENTADO NA BASE DE DADOS INTEIRA#"
   ]
  },
  {
   "cell_type": "markdown",
   "metadata": {},
   "source": [
    "Lendo os dados com o tamanho já acertado para ser compatível com a base de imagens"
   ]
  },
  {
   "cell_type": "code",
   "execution_count": 216,
   "metadata": {},
   "outputs": [],
   "source": [
    "data_final= pd.read_excel('Pokexcel.xlsx') #lendo os dados já alterados e com o memso número de fotos"
   ]
  },
  {
   "cell_type": "markdown",
   "metadata": {},
   "source": []
  },
  {
   "cell_type": "code",
   "execution_count": 228,
   "metadata": {},
   "outputs": [
    {
     "ename": "IndexingError",
     "evalue": "(0      False\n1      False\n2      False\n3      False\n4      False\n5      False\n6      False\n7      False\n8      False\n9       True\n10      True\n11      True\n12      True\n13     False\n14     False\n15     False\n16     False\n17     False\n18     False\n19     False\n20     False\n21     False\n22     False\n23     False\n24     False\n25     False\n26     False\n27     False\n28     False\n29     False\n       ...  \n770    False\n771    False\n772    False\n773    False\n774    False\n775    False\n776    False\n777    False\n778    False\n779    False\n780    False\n781    False\n782    False\n783    False\n784    False\n785    False\n786    False\n787    False\n788    False\n789    False\n790    False\n791    False\n792    False\n793    False\n794    False\n795    False\n796    False\n797    False\n798    False\n799    False\nName: Type 1, Length: 800, dtype: bool, 'Categoria_Num')",
     "output_type": "error",
     "traceback": [
      "\u001b[1;31m---------------------------------------------------------------------------\u001b[0m",
      "\u001b[1;31mTypeError\u001b[0m                                 Traceback (most recent call last)",
      "\u001b[1;32m~\\AppData\\Local\\Continuum\\anaconda3\\lib\\site-packages\\pandas\\core\\indexing.py\u001b[0m in \u001b[0;36m_get_setitem_indexer\u001b[1;34m(self, key)\u001b[0m\n\u001b[0;32m    178\u001b[0m         \u001b[1;32mtry\u001b[0m\u001b[1;33m:\u001b[0m\u001b[1;33m\u001b[0m\u001b[0m\n\u001b[1;32m--> 179\u001b[1;33m             \u001b[1;32mreturn\u001b[0m \u001b[0mself\u001b[0m\u001b[1;33m.\u001b[0m\u001b[0m_convert_to_indexer\u001b[0m\u001b[1;33m(\u001b[0m\u001b[0mkey\u001b[0m\u001b[1;33m,\u001b[0m \u001b[0mis_setter\u001b[0m\u001b[1;33m=\u001b[0m\u001b[1;32mTrue\u001b[0m\u001b[1;33m)\u001b[0m\u001b[1;33m\u001b[0m\u001b[0m\n\u001b[0m\u001b[0;32m    180\u001b[0m         \u001b[1;32mexcept\u001b[0m \u001b[0mTypeError\u001b[0m \u001b[1;32mas\u001b[0m \u001b[0me\u001b[0m\u001b[1;33m:\u001b[0m\u001b[1;33m\u001b[0m\u001b[0m\n",
      "\u001b[1;32m~\\AppData\\Local\\Continuum\\anaconda3\\lib\\site-packages\\pandas\\core\\indexing.py\u001b[0m in \u001b[0;36m_convert_to_indexer\u001b[1;34m(self, obj, axis, is_setter)\u001b[0m\n\u001b[0;32m   1255\u001b[0m                 \u001b[1;32mif\u001b[0m \u001b[0mlabels\u001b[0m\u001b[1;33m.\u001b[0m\u001b[0mis_unique\u001b[0m\u001b[1;33m:\u001b[0m\u001b[1;33m\u001b[0m\u001b[0m\n\u001b[1;32m-> 1256\u001b[1;33m                     \u001b[0mindexer\u001b[0m \u001b[1;33m=\u001b[0m \u001b[0mcheck\u001b[0m \u001b[1;33m=\u001b[0m \u001b[0mlabels\u001b[0m\u001b[1;33m.\u001b[0m\u001b[0mget_indexer\u001b[0m\u001b[1;33m(\u001b[0m\u001b[0mobjarr\u001b[0m\u001b[1;33m)\u001b[0m\u001b[1;33m\u001b[0m\u001b[0m\n\u001b[0m\u001b[0;32m   1257\u001b[0m \u001b[1;33m\u001b[0m\u001b[0m\n",
      "\u001b[1;32m~\\AppData\\Local\\Continuum\\anaconda3\\lib\\site-packages\\pandas\\core\\indexes\\base.py\u001b[0m in \u001b[0;36mget_indexer\u001b[1;34m(self, target, method, limit, tolerance)\u001b[0m\n\u001b[0;32m   2683\u001b[0m             return this.get_indexer(target, method=method, limit=limit,\n\u001b[1;32m-> 2684\u001b[1;33m                                     tolerance=tolerance)\n\u001b[0m\u001b[0;32m   2685\u001b[0m \u001b[1;33m\u001b[0m\u001b[0m\n",
      "\u001b[1;32m~\\AppData\\Local\\Continuum\\anaconda3\\lib\\site-packages\\pandas\\core\\indexes\\base.py\u001b[0m in \u001b[0;36mget_indexer\u001b[1;34m(self, target, method, limit, tolerance)\u001b[0m\n\u001b[0;32m   2701\u001b[0m \u001b[1;33m\u001b[0m\u001b[0m\n\u001b[1;32m-> 2702\u001b[1;33m             \u001b[0mindexer\u001b[0m \u001b[1;33m=\u001b[0m \u001b[0mself\u001b[0m\u001b[1;33m.\u001b[0m\u001b[0m_engine\u001b[0m\u001b[1;33m.\u001b[0m\u001b[0mget_indexer\u001b[0m\u001b[1;33m(\u001b[0m\u001b[0mtarget\u001b[0m\u001b[1;33m.\u001b[0m\u001b[0m_values\u001b[0m\u001b[1;33m)\u001b[0m\u001b[1;33m\u001b[0m\u001b[0m\n\u001b[0m\u001b[0;32m   2703\u001b[0m \u001b[1;33m\u001b[0m\u001b[0m\n",
      "\u001b[1;32mpandas/_libs/index.pyx\u001b[0m in \u001b[0;36mpandas._libs.index.IndexEngine.get_indexer\u001b[1;34m()\u001b[0m\n",
      "\u001b[1;32mpandas/_libs/hashtable_class_helper.pxi\u001b[0m in \u001b[0;36mpandas._libs.hashtable.PyObjectHashTable.lookup\u001b[1;34m()\u001b[0m\n",
      "\u001b[1;32m~\\AppData\\Local\\Continuum\\anaconda3\\lib\\site-packages\\pandas\\core\\generic.py\u001b[0m in \u001b[0;36m__hash__\u001b[1;34m(self)\u001b[0m\n\u001b[0;32m   1044\u001b[0m         raise TypeError('{0!r} objects are mutable, thus they cannot be'\n\u001b[1;32m-> 1045\u001b[1;33m                         ' hashed'.format(self.__class__.__name__))\n\u001b[0m\u001b[0;32m   1046\u001b[0m \u001b[1;33m\u001b[0m\u001b[0m\n",
      "\u001b[1;31mTypeError\u001b[0m: 'Series' objects are mutable, thus they cannot be hashed",
      "\nDuring handling of the above exception, another exception occurred:\n",
      "\u001b[1;31mIndexingError\u001b[0m                             Traceback (most recent call last)",
      "\u001b[1;32m<ipython-input-228-0998113c3153>\u001b[0m in \u001b[0;36m<module>\u001b[1;34m()\u001b[0m\n\u001b[0;32m     25\u001b[0m \u001b[0mdata_final\u001b[0m\u001b[1;33m[\u001b[0m\u001b[1;34m'B'\u001b[0m\u001b[1;33m]\u001b[0m \u001b[1;33m=\u001b[0m \u001b[1;33m[\u001b[0m\u001b[0mx\u001b[0m\u001b[1;33m[\u001b[0m\u001b[1;36m2\u001b[0m\u001b[1;33m]\u001b[0m \u001b[1;32mfor\u001b[0m \u001b[0mx\u001b[0m \u001b[1;32min\u001b[0m \u001b[0mlis_cores_rgb_f\u001b[0m\u001b[1;33m]\u001b[0m\u001b[1;33m\u001b[0m\u001b[0m\n\u001b[0;32m     26\u001b[0m \u001b[1;33m\u001b[0m\u001b[0m\n\u001b[1;32m---> 27\u001b[1;33m \u001b[0mdata_final\u001b[0m\u001b[1;33m.\u001b[0m\u001b[0mloc\u001b[0m\u001b[1;33m[\u001b[0m\u001b[0mdata\u001b[0m\u001b[1;33m[\u001b[0m\u001b[1;34m'Type 1'\u001b[0m\u001b[1;33m]\u001b[0m \u001b[1;33m==\u001b[0m \u001b[1;34m'Water'\u001b[0m   \u001b[1;33m,\u001b[0m \u001b[1;34m\"Categoria_Num\"\u001b[0m\u001b[1;33m]\u001b[0m \u001b[1;33m=\u001b[0m \u001b[1;34m\"0\"\u001b[0m\u001b[1;33m\u001b[0m\u001b[0m\n\u001b[0m\u001b[0;32m     28\u001b[0m \u001b[0mdata_final\u001b[0m\u001b[1;33m.\u001b[0m\u001b[0mloc\u001b[0m\u001b[1;33m[\u001b[0m\u001b[0mdata\u001b[0m\u001b[1;33m[\u001b[0m\u001b[1;34m'Type 1'\u001b[0m\u001b[1;33m]\u001b[0m \u001b[1;33m==\u001b[0m \u001b[1;34m'Normal'\u001b[0m  \u001b[1;33m,\u001b[0m \u001b[1;34m\"Categoria_Num\"\u001b[0m\u001b[1;33m]\u001b[0m \u001b[1;33m=\u001b[0m \u001b[1;34m\"1\"\u001b[0m\u001b[1;33m\u001b[0m\u001b[0m\n\u001b[0;32m     29\u001b[0m \u001b[0mdata_final\u001b[0m\u001b[1;33m.\u001b[0m\u001b[0mloc\u001b[0m\u001b[1;33m[\u001b[0m\u001b[0mdata\u001b[0m\u001b[1;33m[\u001b[0m\u001b[1;34m'Type 1'\u001b[0m\u001b[1;33m]\u001b[0m \u001b[1;33m==\u001b[0m \u001b[1;34m'Grass'\u001b[0m   \u001b[1;33m,\u001b[0m \u001b[1;34m\"Categoria_Num\"\u001b[0m\u001b[1;33m]\u001b[0m \u001b[1;33m=\u001b[0m \u001b[1;34m\"2\"\u001b[0m\u001b[1;33m\u001b[0m\u001b[0m\n",
      "\u001b[1;32m~\\AppData\\Local\\Continuum\\anaconda3\\lib\\site-packages\\pandas\\core\\indexing.py\u001b[0m in \u001b[0;36m__setitem__\u001b[1;34m(self, key, value)\u001b[0m\n\u001b[0;32m    191\u001b[0m         \u001b[1;32melse\u001b[0m\u001b[1;33m:\u001b[0m\u001b[1;33m\u001b[0m\u001b[0m\n\u001b[0;32m    192\u001b[0m             \u001b[0mkey\u001b[0m \u001b[1;33m=\u001b[0m \u001b[0mcom\u001b[0m\u001b[1;33m.\u001b[0m\u001b[0m_apply_if_callable\u001b[0m\u001b[1;33m(\u001b[0m\u001b[0mkey\u001b[0m\u001b[1;33m,\u001b[0m \u001b[0mself\u001b[0m\u001b[1;33m.\u001b[0m\u001b[0mobj\u001b[0m\u001b[1;33m)\u001b[0m\u001b[1;33m\u001b[0m\u001b[0m\n\u001b[1;32m--> 193\u001b[1;33m         \u001b[0mindexer\u001b[0m \u001b[1;33m=\u001b[0m \u001b[0mself\u001b[0m\u001b[1;33m.\u001b[0m\u001b[0m_get_setitem_indexer\u001b[0m\u001b[1;33m(\u001b[0m\u001b[0mkey\u001b[0m\u001b[1;33m)\u001b[0m\u001b[1;33m\u001b[0m\u001b[0m\n\u001b[0m\u001b[0;32m    194\u001b[0m         \u001b[0mself\u001b[0m\u001b[1;33m.\u001b[0m\u001b[0m_setitem_with_indexer\u001b[0m\u001b[1;33m(\u001b[0m\u001b[0mindexer\u001b[0m\u001b[1;33m,\u001b[0m \u001b[0mvalue\u001b[0m\u001b[1;33m)\u001b[0m\u001b[1;33m\u001b[0m\u001b[0m\n\u001b[0;32m    195\u001b[0m \u001b[1;33m\u001b[0m\u001b[0m\n",
      "\u001b[1;32m~\\AppData\\Local\\Continuum\\anaconda3\\lib\\site-packages\\pandas\\core\\indexing.py\u001b[0m in \u001b[0;36m_get_setitem_indexer\u001b[1;34m(self, key)\u001b[0m\n\u001b[0;32m    183\u001b[0m             \u001b[1;32mif\u001b[0m \u001b[1;34m'cannot do'\u001b[0m \u001b[1;32min\u001b[0m \u001b[0mstr\u001b[0m\u001b[1;33m(\u001b[0m\u001b[0me\u001b[0m\u001b[1;33m)\u001b[0m\u001b[1;33m:\u001b[0m\u001b[1;33m\u001b[0m\u001b[0m\n\u001b[0;32m    184\u001b[0m                 \u001b[1;32mraise\u001b[0m\u001b[1;33m\u001b[0m\u001b[0m\n\u001b[1;32m--> 185\u001b[1;33m             \u001b[1;32mraise\u001b[0m \u001b[0mIndexingError\u001b[0m\u001b[1;33m(\u001b[0m\u001b[0mkey\u001b[0m\u001b[1;33m)\u001b[0m\u001b[1;33m\u001b[0m\u001b[0m\n\u001b[0m\u001b[0;32m    186\u001b[0m \u001b[1;33m\u001b[0m\u001b[0m\n\u001b[0;32m    187\u001b[0m     \u001b[1;32mdef\u001b[0m \u001b[0m__setitem__\u001b[0m\u001b[1;33m(\u001b[0m\u001b[0mself\u001b[0m\u001b[1;33m,\u001b[0m \u001b[0mkey\u001b[0m\u001b[1;33m,\u001b[0m \u001b[0mvalue\u001b[0m\u001b[1;33m)\u001b[0m\u001b[1;33m:\u001b[0m\u001b[1;33m\u001b[0m\u001b[0m\n",
      "\u001b[1;31mIndexingError\u001b[0m: (0      False\n1      False\n2      False\n3      False\n4      False\n5      False\n6      False\n7      False\n8      False\n9       True\n10      True\n11      True\n12      True\n13     False\n14     False\n15     False\n16     False\n17     False\n18     False\n19     False\n20     False\n21     False\n22     False\n23     False\n24     False\n25     False\n26     False\n27     False\n28     False\n29     False\n       ...  \n770    False\n771    False\n772    False\n773    False\n774    False\n775    False\n776    False\n777    False\n778    False\n779    False\n780    False\n781    False\n782    False\n783    False\n784    False\n785    False\n786    False\n787    False\n788    False\n789    False\n790    False\n791    False\n792    False\n793    False\n794    False\n795    False\n796    False\n797    False\n798    False\n799    False\nName: Type 1, Length: 800, dtype: bool, 'Categoria_Num')"
     ]
    }
   ],
   "source": [
    "lis_cores_rgb_f = [] #lista que guardará os códigos RGB das cores predominantes em cada foto\n",
    "\n",
    "lis_cores_hsv_f = [] #lista que guardará os códigos HSV das cores predominantes em cada foto\n",
    "\n",
    "path = 'C:/Users/Enrico Aloisi Nardi/Desktop/Insper/SEGUNDO semestre/Ciência dos Dados/Projeto 3/Projeto-3--CDD/pokeimagens/'\n",
    "arq_na_pasta= os.listdir(path)\n",
    "\n",
    "for foto in arq_na_pasta:\n",
    "    color_thief = ColorThief(path + foto)\n",
    "\n",
    "    #recebendo a cor predominante de cada foto\n",
    "    cor_predominante_f = color_thief.get_color(quality=1)\n",
    "    lis_cores_rgb_f.append(cor_predominante_f)\n",
    "    \n",
    "    # Colocando a variável \"cor predominante\" numa função que converte um código de cores RGB em HSV e vice-versa.\n",
    "    # Ela será utilzada para aumentar a 'precisão' da leitura da cor da foto feita pelo ColouThief, que entrega o resultado em RGB.\n",
    "    # Com a conversão RGB-HSV buscamos reduzir confusões feitas pelo programa por conta de pequenas diferenças na cor lida.\n",
    "    cor_predominante_hsv_f = colorsys.rgb_to_hsv(cor_predominante[0], cor_predominante[1], cor_predominante[2])\n",
    "    \n",
    "    lis_cores_hsv_f.append(cor_predominante_hsv_f)\n",
    "\n",
    "\n",
    "data_final['R'] = [x[0] for x in lis_cores_rgb_f]\n",
    "data_final['G'] = [x[1] for x in lis_cores_rgb_f]\n",
    "data_final['B'] = [x[2] for x in lis_cores_rgb_f]\n",
    "\n",
    "data_final.loc[data['Type 1'] == 'Water'   , \"Categoria_Num\"] = \"0\"\n",
    "data_final.loc[data['Type 1'] == 'Normal'  , \"Categoria_Num\"] = \"1\"\n",
    "data_final.loc[data['Type 1'] == 'Grass'   , \"Categoria_Num\"] = \"2\"\n",
    "data_final.loc[data['Type 1'] == 'Bug'     , \"Categoria_Num\"] = \"3\"\n",
    "data_final.loc[data['Type 1'] == 'Psychic' , \"Categoria_Num\"] = \"4\"\n",
    "data_final.loc[data['Type 1'] == 'Fire'    , \"Categoria_Num\"] = \"5\"\n",
    "data_final.loc[data['Type 1'] == 'Electric', \"Categoria_Num\"] = \"6\"\n",
    "data_final.loc[data['Type 1'] == 'Rock'    , \"Categoria_Num\"] = \"7\"\n",
    "data_final.loc[data['Type 1'] == 'Ghost'   , \"Categoria_Num\"] = \"8\"\n",
    "data_final.loc[data['Type 1'] == 'Dragon'  , \"Categoria_Num\"] = \"9\"\n",
    "data_final.loc[data['Type 1'] == 'Ground'  , \"Categoria_Num\"] = \"10\"\n",
    "data_final.loc[data['Type 1'] == 'Dark'    , \"Categoria_Num\"] = \"11\"\n",
    "data_final.loc[data['Type 1'] == 'Poison'  , \"Categoria_Num\"] = \"12\"\n",
    "data_final.loc[data['Type 1'] == 'Steel'   , \"Categoria_Num\"] = \"13\"\n",
    "data_final.loc[data['Type 1'] == 'Fighting', \"Categoria_Num\"] = \"14\"\n",
    "data_final.loc[data['Type 1'] == 'Ice'     , \"Categoria_Num\"] = \"15\"\n",
    "data_final.loc[data['Type 1'] == 'Fairy'   , \"Categoria_Num\"] = \"16\"\n",
    "data_final.loc[data['Type 1'] == 'Flying'  , \"Categoria_Num\"] = \"17\"\n",
    "\n",
    "data_f = data_final.drop(['Type 1','Type 2','Legendary','Name'], axis= 1)\n",
    "data_f.tail(10)"
   ]
  },
  {
   "cell_type": "code",
   "execution_count": 229,
   "metadata": {},
   "outputs": [
    {
     "data": {
      "text/plain": [
       "(804, 804)"
      ]
     },
     "execution_count": 229,
     "metadata": {},
     "output_type": "execute_result"
    }
   ],
   "source": [
    "len(data_final), len(lis_cores_rgb_f)"
   ]
  },
  {
   "cell_type": "markdown",
   "metadata": {},
   "source": [
    "Extraindo a cor predominante de cada imagem e armazenando-a em listas nos formatos RGB e HSV"
   ]
  },
  {
   "cell_type": "code",
   "execution_count": null,
   "metadata": {},
   "outputs": [],
   "source": [
    "lis_cores_rgb = [] #lista que guardará os códigos RGB das cores predominantes em cada foto\n",
    "\n",
    "lis_cores_hsv = [] #lista que guardará os códigos HSV das cores predominantes em cada foto\n",
    "\n",
    "path = 'C:/Users/Enrico Aloisi Nardi/Desktop/Insper/SEGUNDO semestre/Ciência dos Dados/Projeto 3/Projeto-3--CDD/pokemon/'\n",
    "arq_na_pasta= os.listdir(path)\n",
    "\n",
    "for foto in arq_na_pasta:\n",
    "    color_thief = ColorThief(path + foto)\n",
    "\n",
    "    #recebendo a cor predominante de cada foto\n",
    "    cor_predominante = color_thief.get_color(quality=1)\n",
    "    lis_cores_rgb.append(cor_predominante)\n",
    "    \n",
    "    # Colocando a variável \"cor predominante\" numa função que converte um código de cores RGB em HSV e vice-versa.\n",
    "    # Ela será utilzada para aumentar a 'precisão' da leitura da cor da foto feita pelo ColouThief, que entrega o resultado em RGB.\n",
    "    # Com a conversão RGB-HSV buscamos reduzir confusões feitas pelo programa por conta de pequenas diferenças na cor lida.\n",
    "    cor_predominante_hsv = colorsys.rgb_to_hsv(cor_predominante[0], cor_predominante[1], cor_predominante[2])\n",
    "    \n",
    "    lis_cores_hsv.append(cor_predominante_hsv)"
   ]
  },
  {
   "cell_type": "markdown",
   "metadata": {},
   "source": [
    "## Análise exploratória dos dados"
   ]
  },
  {
   "cell_type": "markdown",
   "metadata": {},
   "source": [
    "Começamos a nossa análise exploratória com um hsitograma e uma contagem de pokémons por categoria a fim de entender como eles estão distribuídos."
   ]
  },
  {
   "cell_type": "code",
   "execution_count": null,
   "metadata": {},
   "outputs": [],
   "source": [
    "data['Type 1'].value_counts()"
   ]
  },
  {
   "cell_type": "code",
   "execution_count": null,
   "metadata": {},
   "outputs": [],
   "source": [
    "# Histograma que permite a visualização geral da distribuição dos pokémons de acordo com o seu tipo principal (Type 1)\n",
    "plt.hist(data['Type 1'], rwidth= .9, bins= 18);\n",
    "plt.rcParams['figure.figsize'] = (15,15)"
   ]
  },
  {
   "cell_type": "code",
   "execution_count": null,
   "metadata": {
    "scrolled": true
   },
   "outputs": [],
   "source": [
    "R = [] \n",
    "G = []\n",
    "B = []\n",
    "\n",
    "for cor in lis_cores_rgb:\n",
    "    R.append(cor[0])\n",
    "    G.append(cor[1])\n",
    "    B.append(cor[2])\n",
    "\n",
    "fig = plt.figure()\n",
    "ax = Axes3D(fig)\n",
    "\n",
    "valores_x = R\n",
    "valores_y = G\n",
    "valores_z = B\n",
    "\n",
    "ax.scatter(valores_x,valores_y,valores_z)\n",
    "plt.xlabel('R')\n",
    "plt.ylabel('G')\n",
    "plt.show()\n",
    "#O EIXO Z É O AZUL"
   ]
  },
  {
   "cell_type": "markdown",
   "metadata": {},
   "source": [
    "## Aplicando o algoritmo do KMeans"
   ]
  },
  {
   "cell_type": "code",
   "execution_count": null,
   "metadata": {},
   "outputs": [],
   "source": [
    "modelo_completo= KMeans(n_clusters= 18) #o número de clusters foi definido a partir do número de dados categorias diferentes de Pokémons\n",
    "                                        #(18 no caso de todas as gerações até a sexta) \n",
    "modelo_completo.fit(data2)\n",
    "y_pred = modelo_completo.predict(data2) #lista que guarda qual é o cluster ao qual pertence cada um dos pokémons\n",
    "plt.hist(y_pred, bins= 18);\n"
   ]
  },
  {
   "cell_type": "markdown",
   "metadata": {},
   "source": [
    "# Relatório do projeto\n",
    "\n",
    "### Procedimentos realizados com as bases de dados (imagens + stats)\n",
    "\n",
    "##### Imagens\n",
    "Inicialmente, as imagens dos Pokémons são vetorizadas para que a função ColourThief possa extrair a cor predominante de cada uma delas. Neste ponto é importante notar que como a extensão das imagens dos Pokémons é .png, elas não têm fundo, ou seja, a cor extraída pela função não é afetada por um eventual fundo branco.\n",
    "\n",
    "##### Stats\n",
    "Embora tenham sido feitos vários testes com e sem algumas colunas dos dados originais -como inclusive será investigado em seções futuras do relatório-, algumas colunas não foram utilizadas em nenhum momento da análise, tais como Nomes, tipo secundário e se o Pokémon é lendário ou não.\n",
    "\n",
    "### Método de análise utilizado\n",
    "#### Explicando o K-means\n",
    "\n",
    "### Verificando a qualidade da classificação em diferentes cenários\n",
    "\n",
    "#### Código de cores: RGB vs. HSV\n",
    "#### Com stats e sem stats\n",
    "#### Com geração e sem geração"
   ]
  },
  {
   "cell_type": "markdown",
   "metadata": {},
   "source": [
    "##### Fontes:\n",
    "CSV com dados sobre os Pokémons: https://www.kaggle.com/abcsds/pokemon\n",
    "\n",
    "Database de fotos: https://www.kaggle.com/kvpratama/pokemon-images-dataset"
   ]
  }
 ],
 "metadata": {
  "kernelspec": {
   "display_name": "Python 3",
   "language": "python",
   "name": "python3"
  }
 },
 "nbformat": 4,
 "nbformat_minor": 2
}
